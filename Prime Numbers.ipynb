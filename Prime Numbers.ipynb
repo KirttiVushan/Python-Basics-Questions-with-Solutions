{
 "cells": [
  {
   "cell_type": "markdown",
   "metadata": {},
   "source": [
    "Prime no"
   ]
  },
  {
   "cell_type": "code",
   "execution_count": 9,
   "metadata": {},
   "outputs": [
    {
     "name": "stdout",
     "output_type": "stream",
     "text": [
      "Not a prime no\n"
     ]
    }
   ],
   "source": [
    "num=8\n",
    "for i in range(2,num):\n",
    "    if num%i==0:\n",
    "        print(\"Not a prime no\")\n",
    "        break #we use break beacause if the num is divisible by even one number apart from 1 and itself , \n",
    "        #checking other number will create loss of memory\n",
    "else:\n",
    "    print(\"prime\")"
   ]
  },
  {
   "cell_type": "markdown",
   "metadata": {},
   "source": [
    "Prime no 1-100"
   ]
  },
  {
   "cell_type": "code",
   "execution_count": 6,
   "metadata": {},
   "outputs": [
    {
     "name": "stdout",
     "output_type": "stream",
     "text": [
      "2\n",
      "3\n",
      "5\n",
      "7\n",
      "11\n",
      "13\n",
      "17\n",
      "19\n",
      "23\n",
      "29\n",
      "31\n",
      "37\n",
      "41\n",
      "43\n",
      "47\n",
      "53\n",
      "59\n",
      "61\n",
      "67\n",
      "71\n",
      "73\n",
      "79\n",
      "83\n",
      "89\n",
      "97\n"
     ]
    }
   ],
   "source": [
    "for i in range(2,101):\n",
    "    flag=0\n",
    "    for j in range(2,i):\n",
    "        if i%j==0:\n",
    "            flag=1\n",
    "            break\n",
    "            print(i)\n",
    "            \n",
    "    if flag==0:\n",
    "        print(i)\n",
    "        \n",
    "    "
   ]
  },
  {
   "cell_type": "markdown",
   "metadata": {},
   "source": [
    "Sieve of Eratosthenes"
   ]
  },
  {
   "cell_type": "code",
   "execution_count": 13,
   "metadata": {},
   "outputs": [],
   "source": [
    "from math import*\n",
    "def sieve(n):\n",
    "    \n",
    "    primes=[True]*(n+1)\n",
    "    primes[0]=False\n",
    "    primes[1]=False\n",
    "    \n",
    "    for p in range(2,int(sqrt(n))+1):\n",
    "           if primes[p]==True:\n",
    "                   for i in range(p*p , n+1 , p):\n",
    "                           primes[i]=False\n",
    "\n",
    "    for i in range(0,len(primes)):\n",
    "           if primes[i]==True:\n",
    "                   print(i)\n",
    "                   \n",
    "                       "
   ]
  },
  {
   "cell_type": "code",
   "execution_count": 14,
   "metadata": {},
   "outputs": [
    {
     "name": "stdout",
     "output_type": "stream",
     "text": [
      "2\n",
      "3\n",
      "5\n",
      "7\n",
      "11\n",
      "13\n",
      "17\n",
      "19\n",
      "23\n",
      "29\n",
      "31\n",
      "37\n",
      "41\n",
      "43\n",
      "47\n"
     ]
    }
   ],
   "source": [
    "sieve(50)"
   ]
  },
  {
   "cell_type": "code",
   "execution_count": null,
   "metadata": {},
   "outputs": [],
   "source": []
  }
 ],
 "metadata": {
  "kernelspec": {
   "display_name": "Python 3",
   "language": "python",
   "name": "python3"
  },
  "language_info": {
   "codemirror_mode": {
    "name": "ipython",
    "version": 3
   },
   "file_extension": ".py",
   "mimetype": "text/x-python",
   "name": "python",
   "nbconvert_exporter": "python",
   "pygments_lexer": "ipython3",
   "version": "3.7.4"
  }
 },
 "nbformat": 4,
 "nbformat_minor": 2
}
