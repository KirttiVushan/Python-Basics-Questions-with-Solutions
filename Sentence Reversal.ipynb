{
 "cells": [
  {
   "cell_type": "markdown",
   "metadata": {},
   "source": [
    "Sentence Reversal"
   ]
  },
  {
   "cell_type": "code",
   "execution_count": 31,
   "metadata": {},
   "outputs": [],
   "source": [
    "def sen_rev(s):\n",
    "    \n",
    "    words=[]\n",
    "    length=len(s)\n",
    "    spaces=[' ']\n",
    "    rev_str=\"\"\n",
    "    \n",
    "    i=0\n",
    "    while i<length:\n",
    "        if s[i]  not in spaces:\n",
    "            word_start = i\n",
    "            \n",
    "            while i<length and s[i] not in spaces:\n",
    "                i+=1\n",
    "            words.append(s[word_start:i])\n",
    "                \n",
    "        i+=1\n",
    "            \n",
    "    return  \" \".join(reversed(words))\n",
    "\n",
    "   \n",
    "        \n",
    "    "
   ]
  },
  {
   "cell_type": "code",
   "execution_count": 32,
   "metadata": {},
   "outputs": [
    {
     "data": {
      "text/plain": [
       "'go? to ready you are John, Hi'"
      ]
     },
     "execution_count": 32,
     "metadata": {},
     "output_type": "execute_result"
    }
   ],
   "source": [
    "sen_rev('Hi John,   are you ready to go?')"
   ]
  },
  {
   "cell_type": "code",
   "execution_count": 25,
   "metadata": {},
   "outputs": [],
   "source": [
    "def sentence_reversal(s):\n",
    "    words =[]\n",
    "    length=len(s)\n",
    "    spaces=[' ']\n",
    "    rev_str=\"\"\n",
    "    \n",
    "    i=0\n",
    "    \n",
    "    while i<length:\n",
    "        if s[i] not in spaces:\n",
    "            word_start=i\n",
    "            \n",
    "            while i < length and s[i] not in spaces:\n",
    "                i+=1\n",
    "#                 words.append(s[word_start:i])\n",
    "#                 print(\"words\",words)\n",
    "            words.append(s[word_start:i])\n",
    "            print(\"words\",words)\n",
    "                \n",
    "        i+=1\n",
    "        \n",
    "        \n",
    "    for letter in words:\n",
    "        char = letter\n",
    "        rev_str=rev_str + \" \" +char\n",
    "        \n",
    "    return rev_str"
   ]
  },
  {
   "cell_type": "code",
   "execution_count": 26,
   "metadata": {},
   "outputs": [
    {
     "name": "stdout",
     "output_type": "stream",
     "text": [
      "words ['Hi']\n",
      "words ['Hi', 'John,']\n",
      "words ['Hi', 'John,', 'are']\n",
      "words ['Hi', 'John,', 'are', 'you']\n",
      "words ['Hi', 'John,', 'are', 'you', 'ready']\n",
      "words ['Hi', 'John,', 'are', 'you', 'ready', 'to']\n",
      "words ['Hi', 'John,', 'are', 'you', 'ready', 'to', 'go?']\n"
     ]
    },
    {
     "data": {
      "text/plain": [
       "' Hi John, are you ready to go?'"
      ]
     },
     "execution_count": 26,
     "metadata": {},
     "output_type": "execute_result"
    }
   ],
   "source": [
    "sentence_reversal('Hi John,   are you ready to go?')"
   ]
  },
  {
   "cell_type": "code",
   "execution_count": null,
   "metadata": {},
   "outputs": [],
   "source": []
  }
 ],
 "metadata": {
  "kernelspec": {
   "display_name": "Python 3",
   "language": "python",
   "name": "python3"
  },
  "language_info": {
   "codemirror_mode": {
    "name": "ipython",
    "version": 3
   },
   "file_extension": ".py",
   "mimetype": "text/x-python",
   "name": "python",
   "nbconvert_exporter": "python",
   "pygments_lexer": "ipython3",
   "version": "3.7.4"
  }
 },
 "nbformat": 4,
 "nbformat_minor": 2
}
